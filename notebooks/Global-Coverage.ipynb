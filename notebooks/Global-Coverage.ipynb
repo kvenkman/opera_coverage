{
 "cells": [
  {
   "cell_type": "code",
   "execution_count": 1,
   "id": "3752d875",
   "metadata": {},
   "outputs": [
    {
     "data": {
      "text/html": [
       "<style>.container { width:98% !important; }</style>"
      ],
      "text/plain": [
       "<IPython.core.display.HTML object>"
      ]
     },
     "execution_count": 1,
     "metadata": {},
     "output_type": "execute_result"
    }
   ],
   "source": [
    "from IPython.core.display import HTML\n",
    "HTML(\"<style>.container { width:98% !important; }</style>\")"
   ]
  },
  {
   "cell_type": "code",
   "execution_count": 2,
   "id": "531c286d",
   "metadata": {},
   "outputs": [],
   "source": [
    "%load_ext autoreload\n",
    "%autoreload 2"
   ]
  },
  {
   "cell_type": "code",
   "execution_count": 3,
   "id": "a3bd74de",
   "metadata": {},
   "outputs": [],
   "source": [
    "# GIS imports\n",
    "from shapely.geometry import Polygon\n",
    "from opera_coverage import *\n",
    "import geopandas as gpd\n",
    "from shapely.geometry import box, Point\n",
    "from rasterio.crs import CRS\n",
    "\n",
    "# Misc imports\n",
    "import numpy as np\n",
    "from itertools import product\n",
    "from pathlib import Path\n",
    "from datetime import datetime\n",
    "from tqdm import tqdm\n",
    "import concurrent.futures\n",
    "from typing import List"
   ]
  },
  {
   "cell_type": "code",
   "execution_count": 4,
   "id": "0156f790",
   "metadata": {},
   "outputs": [],
   "source": [
    "output_path = Path('../outputs/')\n",
    "output_path.mkdir(exist_ok=True)"
   ]
  },
  {
   "cell_type": "code",
   "execution_count": 5,
   "id": "ef487353",
   "metadata": {},
   "outputs": [],
   "source": [
    "# helper functions\n",
    "\n",
    "def get_cadence_df(geo:Polygon, daterange:List[datetime]):\n",
    "    return get_coverage(['sentinel1','sentinel2','landsat8'], geo, daterange)\n",
    "\n",
    "def get_lat(geom):\n",
    "    return int(np.floor(geom.centroid.coords.xy[1][0]))\n",
    "\n",
    "def get_lon(geom):\n",
    "    return int(np.floor(geom.centroid.coords.xy[0][0]))\n",
    "\n",
    "def make_box(row):\n",
    "    return box(row['lon'], row['lat'], row['lon'] + 1, row['lat'] + 1)"
   ]
  },
  {
   "cell_type": "code",
   "execution_count": 6,
   "id": "1530ed92",
   "metadata": {},
   "outputs": [],
   "source": [
    "def make_grid(x_start, y_start, x_end, y_end, X_SPACING = 1, Y_SPACING = 0.25, RADIUS = 0.1):\n",
    "    lon_lat = list(product(\n",
    "                np.linspace(x_start + (X_SPACING/2), x_end + (X_SPACING/2), int((x_end - x_start) / X_SPACING) + 1, endpoint=False), \n",
    "                np.linspace(y_start + (Y_SPACING/2), y_end + (Y_SPACING/2), int((y_end - y_start) / Y_SPACING) + 1, endpoint=False)\n",
    "                ))\n",
    "\n",
    "    geometry = [Point(lon, lat).buffer(RADIUS) for lon, lat in lon_lat]\n",
    "\n",
    "    center_x = [lon for lon, _ in lon_lat]\n",
    "    center_y = [lat for _, lat in lon_lat]\n",
    "\n",
    "    df = gpd.GeoDataFrame({'center_x':center_x, 'center_y':center_y}, geometry = geometry, crs=CRS.from_epsg(4326))\n",
    "    \n",
    "    return df"
   ]
  },
  {
   "cell_type": "code",
   "execution_count": 7,
   "id": "4449e90e",
   "metadata": {},
   "outputs": [],
   "source": [
    "# an arbitrary AOI in CA for testing purposes\n",
    "test_aoi = Polygon([[-116, 40],[-119, 40],[-119, 38],[-116, 38],[-116, 40]])\n",
    "df = make_grid(*test_aoi.bounds)\n",
    "df.to_file(output_path/'test_aoi_df')\n"
   ]
  },
  {
   "cell_type": "code",
   "execution_count": 8,
   "id": "1feffdda",
   "metadata": {},
   "outputs": [],
   "source": [
    "def get_area_coverage(aoi: Polygon, search_dates: List[datetime], x_res = 1, y_res = 0.25, radius = 0.1):\n",
    "    \n",
    "    x_start, y_start, x_end, y_end = aoi.bounds\n",
    "    \n",
    "    df = make_grid(x_start, y_start, x_end, y_end, x_res, y_res, radius)\n",
    "    \n",
    "    indices = df.geometry.intersects(aoi)\n",
    "    df_points = df[indices].reset_index(drop=True)\n",
    "    \n",
    "    with concurrent.futures.ThreadPoolExecutor(max_workers=10) as executor:\n",
    "        results = list(executor.map(get_cadence_df, tqdm(df_points.geometry), [search_dates]*len(df_points)))\n",
    "        \n",
    "    df_temp = df_points.copy()\n",
    "    df_temp['av_cad_hours'] = [i.cadence.mean().seconds/3600 for i in results]\n",
    "    df_temp['avail_sensors'] = [i.sensor.unique() for i in results]\n",
    "    df_temp['n_avail_sensors'] = [len(i.sensor.unique()) for i in results]\n",
    "    \n",
    "    # Re-grid results to 1x1 degree cells\n",
    "    df_temp['lon'] = df_temp.geometry.map(get_lon)\n",
    "    df_temp['lat'] = df_temp.geometry.map(get_lat)\n",
    "    df_ag = df_temp.groupby(['lon', 'lat']).mean().reset_index()\n",
    "    geom = df_ag.apply(make_box, axis=1)\n",
    "    \n",
    "    df_ag = gpd.GeoDataFrame(df_ag, geometry=geom, crs = CRS.from_epsg(4326))\n",
    "    \n",
    "    return df_ag"
   ]
  },
  {
   "cell_type": "code",
   "execution_count": 9,
   "id": "22177d7c",
   "metadata": {
    "scrolled": true
   },
   "outputs": [
    {
     "name": "stderr",
     "output_type": "stream",
     "text": [
      "100%|██████████| 36/36 [00:00<00:00, 365.66it/s]\n",
      "/Users/karthikv/opt/anaconda3/envs/opera_coverage/lib/python3.10/site-packages/opera_coverage/formatting.py:32: UserWarning: Dataframe is empty! Check inputs.\n",
      "  warn('Dataframe is empty! Check inputs.')\n",
      "/Users/karthikv/opt/anaconda3/envs/opera_coverage/lib/python3.10/site-packages/opera_coverage/formatting.py:32: UserWarning: Dataframe is empty! Check inputs.\n",
      "  warn('Dataframe is empty! Check inputs.')\n"
     ]
    }
   ],
   "source": [
    "df = get_area_coverage(test_aoi,[datetime(2022,1,1),datetime(2022,2,1)])"
   ]
  },
  {
   "cell_type": "code",
   "execution_count": 10,
   "id": "61351127",
   "metadata": {},
   "outputs": [
    {
     "name": "stderr",
     "output_type": "stream",
     "text": [
      "/var/folders/0j/_hzqdqys6wg5g5khfdl7tdk00000gr/T/ipykernel_37983/1742401870.py:1: UserWarning: Column names longer than 10 characters will be truncated when saved to ESRI Shapefile.\n",
      "  df.to_file(output_path/'test_coverage_df')\n",
      "WARNING:fiona._env:Normalized/laundered field name: 'av_cad_hours' to 'av_cad_hou'\n",
      "WARNING:fiona._env:Normalized/laundered field name: 'n_avail_sensors' to 'n_avail_se'\n"
     ]
    }
   ],
   "source": [
    "df.to_file(output_path/'test_coverage_df')"
   ]
  },
  {
   "cell_type": "code",
   "execution_count": 11,
   "id": "04119bee",
   "metadata": {},
   "outputs": [
    {
     "ename": "TypeError",
     "evalue": "shape2gdf() got an unexpected keyword argument 'to_file'",
     "output_type": "error",
     "traceback": [
      "\u001b[0;31m---------------------------------------------------------------------------\u001b[0m",
      "\u001b[0;31mTypeError\u001b[0m                                 Traceback (most recent call last)",
      "\u001b[1;32m/Users/karthikv/Desktop/workspace/other-repositories/opera_coverage/notebooks/Global-Coverage.ipynb Cell 11\u001b[0m in \u001b[0;36m<cell line: 2>\u001b[0;34m()\u001b[0m\n\u001b[1;32m      <a href='vscode-notebook-cell:/Users/karthikv/Desktop/workspace/other-repositories/opera_coverage/notebooks/Global-Coverage.ipynb#X43sZmlsZQ%3D%3D?line=0'>1</a>\u001b[0m \u001b[39m# need the updated shape2gdf method for this to work\u001b[39;00m\n\u001b[0;32m----> <a href='vscode-notebook-cell:/Users/karthikv/Desktop/workspace/other-repositories/opera_coverage/notebooks/Global-Coverage.ipynb#X43sZmlsZQ%3D%3D?line=1'>2</a>\u001b[0m _ \u001b[39m=\u001b[39m shape2gdf(test_aoi, filename \u001b[39m=\u001b[39;49m \u001b[39m'\u001b[39;49m\u001b[39mtest_aoi_gdf\u001b[39;49m\u001b[39m'\u001b[39;49m, to_file \u001b[39m=\u001b[39;49m \u001b[39mTrue\u001b[39;49;00m)\n",
      "\u001b[0;31mTypeError\u001b[0m: shape2gdf() got an unexpected keyword argument 'to_file'"
     ]
    }
   ],
   "source": [
    "# need the updated shape2gdf method for this to work\n",
    "_ = shape2gdf(test_aoi, filename = 'test_aoi_gdf', to_file = True)"
   ]
  }
 ],
 "metadata": {
  "kernelspec": {
   "display_name": "Python 3.10.5 ('opera_coverage')",
   "language": "python",
   "name": "python3"
  },
  "language_info": {
   "codemirror_mode": {
    "name": "ipython",
    "version": 3
   },
   "file_extension": ".py",
   "mimetype": "text/x-python",
   "name": "python",
   "nbconvert_exporter": "python",
   "pygments_lexer": "ipython3",
   "version": "3.10.5"
  },
  "vscode": {
   "interpreter": {
    "hash": "b9fec408131cd44816f7b49f86fd45943490d2e3612c01f21e10e8ec8a27fa7b"
   }
  }
 },
 "nbformat": 4,
 "nbformat_minor": 5
}
